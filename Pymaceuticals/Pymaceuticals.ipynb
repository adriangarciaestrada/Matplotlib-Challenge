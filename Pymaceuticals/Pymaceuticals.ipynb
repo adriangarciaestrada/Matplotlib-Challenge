{
 "cells": [
  {
   "cell_type": "markdown",
   "metadata": {},
   "source": [
    "## Observations and Insights"
   ]
  },
  {
   "cell_type": "markdown",
   "metadata": {},
   "source": [
    "- There is a close relation between the weight of the mouse and the average volume of the tumor, this may be because a bigger has more tissue that can be affected by the tumor\n",
    "- For atleast one mouse (s185) the Capomulin regimen successfuly reduced the sice of the tumor, but we need to check if all of the mice that were treated with Capomulin algo got their tumors reduced to declare that the treatment works\n",
    "- The possible outlier for Infubinol is 36.32 mm3 while the lower bound is 36.8 mm3, we might think that there is not much difference and not consider this one as an outlier, but only an expert can be sure if it is an outlier or not"
   ]
  },
  {
   "cell_type": "markdown",
   "metadata": {},
   "source": [
    "## Dependencies and starter code"
   ]
  },
  {
   "cell_type": "code",
   "execution_count": 1,
   "metadata": {},
   "outputs": [
    {
     "data": {
      "text/html": [
       "<div>\n",
       "<style scoped>\n",
       "    .dataframe tbody tr th:only-of-type {\n",
       "        vertical-align: middle;\n",
       "    }\n",
       "\n",
       "    .dataframe tbody tr th {\n",
       "        vertical-align: top;\n",
       "    }\n",
       "\n",
       "    .dataframe thead th {\n",
       "        text-align: right;\n",
       "    }\n",
       "</style>\n",
       "<table border=\"1\" class=\"dataframe\">\n",
       "  <thead>\n",
       "    <tr style=\"text-align: right;\">\n",
       "      <th></th>\n",
       "      <th>Mouse ID</th>\n",
       "      <th>Drug Regimen</th>\n",
       "      <th>Sex</th>\n",
       "      <th>Age_months</th>\n",
       "      <th>Weight (g)</th>\n",
       "      <th>Timepoint</th>\n",
       "      <th>Tumor Volume (mm3)</th>\n",
       "      <th>Metastatic Sites</th>\n",
       "    </tr>\n",
       "  </thead>\n",
       "  <tbody>\n",
       "    <tr>\n",
       "      <td>0</td>\n",
       "      <td>k403</td>\n",
       "      <td>Ramicane</td>\n",
       "      <td>Male</td>\n",
       "      <td>21</td>\n",
       "      <td>16</td>\n",
       "      <td>0</td>\n",
       "      <td>45.000000</td>\n",
       "      <td>0</td>\n",
       "    </tr>\n",
       "    <tr>\n",
       "      <td>1</td>\n",
       "      <td>k403</td>\n",
       "      <td>Ramicane</td>\n",
       "      <td>Male</td>\n",
       "      <td>21</td>\n",
       "      <td>16</td>\n",
       "      <td>5</td>\n",
       "      <td>38.825898</td>\n",
       "      <td>0</td>\n",
       "    </tr>\n",
       "    <tr>\n",
       "      <td>2</td>\n",
       "      <td>k403</td>\n",
       "      <td>Ramicane</td>\n",
       "      <td>Male</td>\n",
       "      <td>21</td>\n",
       "      <td>16</td>\n",
       "      <td>10</td>\n",
       "      <td>35.014271</td>\n",
       "      <td>1</td>\n",
       "    </tr>\n",
       "    <tr>\n",
       "      <td>3</td>\n",
       "      <td>k403</td>\n",
       "      <td>Ramicane</td>\n",
       "      <td>Male</td>\n",
       "      <td>21</td>\n",
       "      <td>16</td>\n",
       "      <td>15</td>\n",
       "      <td>34.223992</td>\n",
       "      <td>1</td>\n",
       "    </tr>\n",
       "    <tr>\n",
       "      <td>4</td>\n",
       "      <td>k403</td>\n",
       "      <td>Ramicane</td>\n",
       "      <td>Male</td>\n",
       "      <td>21</td>\n",
       "      <td>16</td>\n",
       "      <td>20</td>\n",
       "      <td>32.997729</td>\n",
       "      <td>1</td>\n",
       "    </tr>\n",
       "    <tr>\n",
       "      <td>...</td>\n",
       "      <td>...</td>\n",
       "      <td>...</td>\n",
       "      <td>...</td>\n",
       "      <td>...</td>\n",
       "      <td>...</td>\n",
       "      <td>...</td>\n",
       "      <td>...</td>\n",
       "      <td>...</td>\n",
       "    </tr>\n",
       "    <tr>\n",
       "      <td>1888</td>\n",
       "      <td>z969</td>\n",
       "      <td>Naftisol</td>\n",
       "      <td>Male</td>\n",
       "      <td>9</td>\n",
       "      <td>30</td>\n",
       "      <td>25</td>\n",
       "      <td>63.145652</td>\n",
       "      <td>2</td>\n",
       "    </tr>\n",
       "    <tr>\n",
       "      <td>1889</td>\n",
       "      <td>z969</td>\n",
       "      <td>Naftisol</td>\n",
       "      <td>Male</td>\n",
       "      <td>9</td>\n",
       "      <td>30</td>\n",
       "      <td>30</td>\n",
       "      <td>65.841013</td>\n",
       "      <td>3</td>\n",
       "    </tr>\n",
       "    <tr>\n",
       "      <td>1890</td>\n",
       "      <td>z969</td>\n",
       "      <td>Naftisol</td>\n",
       "      <td>Male</td>\n",
       "      <td>9</td>\n",
       "      <td>30</td>\n",
       "      <td>35</td>\n",
       "      <td>69.176246</td>\n",
       "      <td>4</td>\n",
       "    </tr>\n",
       "    <tr>\n",
       "      <td>1891</td>\n",
       "      <td>z969</td>\n",
       "      <td>Naftisol</td>\n",
       "      <td>Male</td>\n",
       "      <td>9</td>\n",
       "      <td>30</td>\n",
       "      <td>40</td>\n",
       "      <td>70.314904</td>\n",
       "      <td>4</td>\n",
       "    </tr>\n",
       "    <tr>\n",
       "      <td>1892</td>\n",
       "      <td>z969</td>\n",
       "      <td>Naftisol</td>\n",
       "      <td>Male</td>\n",
       "      <td>9</td>\n",
       "      <td>30</td>\n",
       "      <td>45</td>\n",
       "      <td>73.867845</td>\n",
       "      <td>4</td>\n",
       "    </tr>\n",
       "  </tbody>\n",
       "</table>\n",
       "<p>1893 rows × 8 columns</p>\n",
       "</div>"
      ],
      "text/plain": [
       "     Mouse ID Drug Regimen   Sex  Age_months  Weight (g)  Timepoint  \\\n",
       "0        k403     Ramicane  Male          21          16          0   \n",
       "1        k403     Ramicane  Male          21          16          5   \n",
       "2        k403     Ramicane  Male          21          16         10   \n",
       "3        k403     Ramicane  Male          21          16         15   \n",
       "4        k403     Ramicane  Male          21          16         20   \n",
       "...       ...          ...   ...         ...         ...        ...   \n",
       "1888     z969     Naftisol  Male           9          30         25   \n",
       "1889     z969     Naftisol  Male           9          30         30   \n",
       "1890     z969     Naftisol  Male           9          30         35   \n",
       "1891     z969     Naftisol  Male           9          30         40   \n",
       "1892     z969     Naftisol  Male           9          30         45   \n",
       "\n",
       "      Tumor Volume (mm3)  Metastatic Sites  \n",
       "0              45.000000                 0  \n",
       "1              38.825898                 0  \n",
       "2              35.014271                 1  \n",
       "3              34.223992                 1  \n",
       "4              32.997729                 1  \n",
       "...                  ...               ...  \n",
       "1888           63.145652                 2  \n",
       "1889           65.841013                 3  \n",
       "1890           69.176246                 4  \n",
       "1891           70.314904                 4  \n",
       "1892           73.867845                 4  \n",
       "\n",
       "[1893 rows x 8 columns]"
      ]
     },
     "execution_count": 1,
     "metadata": {},
     "output_type": "execute_result"
    }
   ],
   "source": [
    "# Dependencies and Setup\n",
    "import matplotlib.pyplot as plt\n",
    "import pandas as pd\n",
    "import scipy.stats as st\n",
    "\n",
    "# Study data files\n",
    "mouse_metadata = \"data/Mouse_metadata.csv\"\n",
    "study_results = \"data/Study_results.csv\"\n",
    "\n",
    "# Read the mouse data and the study results\n",
    "mouse_metadata = pd.read_csv(mouse_metadata)\n",
    "study_results = pd.read_csv(study_results)\n",
    "\n",
    "# Combine the data into a single dataset\n",
    "complete_data=mouse_metadata.merge(study_results, on='Mouse ID' )\n",
    "complete_data"
   ]
  },
  {
   "cell_type": "markdown",
   "metadata": {},
   "source": [
    "## Summary statistics"
   ]
  },
  {
   "cell_type": "code",
   "execution_count": 2,
   "metadata": {},
   "outputs": [
    {
     "name": "stdout",
     "output_type": "stream",
     "text": [
      "['Ramicane' 'Capomulin' 'Infubinol' 'Placebo' 'Ceftamin' 'Stelasyn'\n",
      " 'Zoniferol' 'Ketapril' 'Propriva' 'Naftisol']\n"
     ]
    },
    {
     "data": {
      "text/html": [
       "<div>\n",
       "<style scoped>\n",
       "    .dataframe tbody tr th:only-of-type {\n",
       "        vertical-align: middle;\n",
       "    }\n",
       "\n",
       "    .dataframe tbody tr th {\n",
       "        vertical-align: top;\n",
       "    }\n",
       "\n",
       "    .dataframe thead th {\n",
       "        text-align: right;\n",
       "    }\n",
       "</style>\n",
       "<table border=\"1\" class=\"dataframe\">\n",
       "  <thead>\n",
       "    <tr style=\"text-align: right;\">\n",
       "      <th></th>\n",
       "      <th>Mean</th>\n",
       "      <th>Median</th>\n",
       "      <th>Variance</th>\n",
       "      <th>Standard Deviation</th>\n",
       "      <th>SEM</th>\n",
       "    </tr>\n",
       "    <tr>\n",
       "      <th>Treatments</th>\n",
       "      <th></th>\n",
       "      <th></th>\n",
       "      <th></th>\n",
       "      <th></th>\n",
       "      <th></th>\n",
       "    </tr>\n",
       "  </thead>\n",
       "  <tbody>\n",
       "    <tr>\n",
       "      <td>Capomulin</td>\n",
       "      <td>40.68</td>\n",
       "      <td>41.56</td>\n",
       "      <td>24.95</td>\n",
       "      <td>4.99</td>\n",
       "      <td>0.33</td>\n",
       "    </tr>\n",
       "    <tr>\n",
       "      <td>Ceftamin</td>\n",
       "      <td>52.59</td>\n",
       "      <td>51.78</td>\n",
       "      <td>39.29</td>\n",
       "      <td>6.27</td>\n",
       "      <td>0.47</td>\n",
       "    </tr>\n",
       "    <tr>\n",
       "      <td>Infubinol</td>\n",
       "      <td>52.88</td>\n",
       "      <td>51.82</td>\n",
       "      <td>43.13</td>\n",
       "      <td>6.57</td>\n",
       "      <td>0.49</td>\n",
       "    </tr>\n",
       "    <tr>\n",
       "      <td>Ketapril</td>\n",
       "      <td>55.24</td>\n",
       "      <td>53.70</td>\n",
       "      <td>68.55</td>\n",
       "      <td>8.28</td>\n",
       "      <td>0.60</td>\n",
       "    </tr>\n",
       "    <tr>\n",
       "      <td>Naftisol</td>\n",
       "      <td>54.33</td>\n",
       "      <td>52.51</td>\n",
       "      <td>66.17</td>\n",
       "      <td>8.13</td>\n",
       "      <td>0.60</td>\n",
       "    </tr>\n",
       "    <tr>\n",
       "      <td>Placebo</td>\n",
       "      <td>54.03</td>\n",
       "      <td>52.29</td>\n",
       "      <td>61.17</td>\n",
       "      <td>7.82</td>\n",
       "      <td>0.58</td>\n",
       "    </tr>\n",
       "    <tr>\n",
       "      <td>Propriva</td>\n",
       "      <td>52.32</td>\n",
       "      <td>50.85</td>\n",
       "      <td>42.35</td>\n",
       "      <td>6.51</td>\n",
       "      <td>0.51</td>\n",
       "    </tr>\n",
       "    <tr>\n",
       "      <td>Ramicane</td>\n",
       "      <td>40.22</td>\n",
       "      <td>40.67</td>\n",
       "      <td>23.49</td>\n",
       "      <td>4.85</td>\n",
       "      <td>0.32</td>\n",
       "    </tr>\n",
       "    <tr>\n",
       "      <td>Stelasyn</td>\n",
       "      <td>54.23</td>\n",
       "      <td>52.43</td>\n",
       "      <td>59.45</td>\n",
       "      <td>7.71</td>\n",
       "      <td>0.57</td>\n",
       "    </tr>\n",
       "    <tr>\n",
       "      <td>Zoniferol</td>\n",
       "      <td>53.24</td>\n",
       "      <td>51.82</td>\n",
       "      <td>48.53</td>\n",
       "      <td>6.97</td>\n",
       "      <td>0.52</td>\n",
       "    </tr>\n",
       "  </tbody>\n",
       "</table>\n",
       "</div>"
      ],
      "text/plain": [
       "             Mean Median Variance Standard Deviation   SEM\n",
       "Treatments                                                \n",
       "Capomulin   40.68  41.56    24.95               4.99  0.33\n",
       "Ceftamin    52.59  51.78    39.29               6.27  0.47\n",
       "Infubinol   52.88  51.82    43.13               6.57  0.49\n",
       "Ketapril    55.24  53.70    68.55               8.28  0.60\n",
       "Naftisol    54.33  52.51    66.17               8.13  0.60\n",
       "Placebo     54.03  52.29    61.17               7.82  0.58\n",
       "Propriva    52.32  50.85    42.35               6.51  0.51\n",
       "Ramicane    40.22  40.67    23.49               4.85  0.32\n",
       "Stelasyn    54.23  52.43    59.45               7.71  0.57\n",
       "Zoniferol   53.24  51.82    48.53               6.97  0.52"
      ]
     },
     "execution_count": 2,
     "metadata": {},
     "output_type": "execute_result"
    }
   ],
   "source": [
    "# Generate a summary statistics table of mean, median, variance, standard deviation, and SEM of the tumor volume for each regimen\n",
    "treatments=complete_data['Drug Regimen'].unique()\n",
    "print(treatments)\n",
    "mean=[]\n",
    "median=[]\n",
    "variance=[]\n",
    "stdev=[]\n",
    "SEM=[]\n",
    "\n",
    "for treatment in treatments:\n",
    "    treatment_data=complete_data[complete_data['Drug Regimen']==treatment]\n",
    "    \n",
    "    mean.append(treatment_data['Tumor Volume (mm3)'].mean())\n",
    "    median.append(treatment_data['Tumor Volume (mm3)'].median())\n",
    "    variance.append(treatment_data['Tumor Volume (mm3)'].var())\n",
    "    stdev.append(treatment_data['Tumor Volume (mm3)'].std())\n",
    "    SEM.append(treatment_data['Tumor Volume (mm3)'].sem())\n",
    "\n",
    "# Creates a new DataFrame with the calculated information\n",
    "# summary_statistics=pd.DataFrame([[treatments,mean,median,variance,stdev,SEM]],\n",
    "#                                  columns=[\"Treatments\",\"Mean\",\"Median\",\"Variance\",\"Standard Deviation\",\"SEM\"])\n",
    "summary_statistics = pd.DataFrame({'Treatments': treatments,'Mean': mean,'Median': median, 'Variance':variance, 'Standard Deviation':stdev, 'SEM':SEM}).set_index('Treatments')\n",
    "\n",
    "for column in summary_statistics:\n",
    "    summary_statistics[column]= summary_statistics[column].map('{:,.2f}'.format)\n",
    "\n",
    "# Displays the results DataFrame\n",
    "summary_statistics.sort_values(by='Treatments', ascending=True)\n"
   ]
  },
  {
   "cell_type": "markdown",
   "metadata": {},
   "source": [
    "## Bar plots"
   ]
  },
  {
   "cell_type": "code",
   "execution_count": 3,
   "metadata": {},
   "outputs": [
    {
     "data": {
      "image/png": "[encoded data removed]",
      "text/plain": [
       "<Figure size 432x288 with 1 Axes>"
      ]
     },
     "metadata": {
      "needs_background": "light"
     },
     "output_type": "display_data"
    }
   ],
   "source": [
    "# Generate a bar plot showing number of data points for each treatment regimen using pandas\n",
    "\n",
    "treatment_data=complete_data['Drug Regimen'].value_counts().rename_axis('treatments').reset_index(name='counts')\n",
    "plt.bar(treatment_data['treatments'],treatment_data['counts'],color='b',width=0.5)\n",
    "plt.xticks(rotation=90)\n",
    "plt.xlim(-0.75, len(treatment_data['treatments'])-0.25)\n",
    "plt.ylim(0, 250)\n",
    "plt.title('Datapoints per Treatment')\n",
    "plt.ylabel('Datapoint Counts')\n",
    "plt.xlabel('Treatments')\n",
    "plt.grid(axis='y', color='0.75')\n",
    "plt.show()"
   ]
  },
  {
   "cell_type": "code",
   "execution_count": 4,
   "metadata": {},
   "outputs": [
    {
     "data": {
      "image/png": "[encoded data removed]",
      "text/plain": [
       "<Figure size 432x288 with 1 Axes>"
      ]
     },
     "metadata": {
      "needs_background": "light"
     },
     "output_type": "display_data"
    }
   ],
   "source": [
    "# Generate a bar plot showing number of data points for each treatment regimen using pyplot\n",
    "complete_data['Drug Regimen'].value_counts().plot(kind='bar',color='b')\n",
    "plt.title('Datapoints per Treatment')\n",
    "plt.xlim(-0.75, len(treatment_data['treatments'])-0.25)\n",
    "plt.ylim(0, 250)\n",
    "plt.ylabel('Datapoint Counts')\n",
    "plt.xlabel('Treatments')\n",
    "plt.grid(axis='y', color='0.75')\n",
    "plt.show()"
   ]
  },
  {
   "cell_type": "markdown",
   "metadata": {},
   "source": [
    "## Pie plots"
   ]
  },
  {
   "cell_type": "code",
   "execution_count": 5,
   "metadata": {},
   "outputs": [
    {
     "data": {
      "image/png": "[encoded data removed]",
      "text/plain": [
       "<Figure size 432x288 with 1 Axes>"
      ]
     },
     "metadata": {},
     "output_type": "display_data"
    }
   ],
   "source": [
    "# Generate a pie plot showing the distribution of female versus male mice using pandas\n",
    "gender_data=complete_data.groupby(['Mouse ID','Sex']).sum().reset_index()['Sex'].value_counts().rename_axis('sex').reset_index(name='counts')\n",
    "plt.pie(gender_data['counts'],explode=[0.2,0],startangle=90,colors=['b','r'],autopct='%1.1f%%')\n",
    "plt.title('Mice Gender Percentage')\n",
    "plt.legend(labels=gender_data['sex'], loc=\"best\")\n",
    "plt.show()"
   ]
  },
  {
   "cell_type": "code",
   "execution_count": 6,
   "metadata": {},
   "outputs": [
    {
     "data": {
      "image/png": "[encoded data removed]",
      "text/plain": [
       "<Figure size 432x288 with 1 Axes>"
      ]
     },
     "metadata": {},
     "output_type": "display_data"
    }
   ],
   "source": [
    "# Generate a pie plot showing the distribution of female versus male mice using pyplot\n",
    "complete_data.groupby(['Mouse ID','Sex']).sum().reset_index()['Sex'].value_counts().rename_axis('sex').reset_index(name='counts')['counts'].plot(kind='pie',explode=[0.2,0],startangle=90,colors=['b','r'],autopct='%1.1f%%',legend='',labels=None)\n",
    "plt.legend(labels=complete_data['Sex'], loc=\"best\")\n",
    "plt.title('Mice Gender Percentage')\n",
    "plt.ylabel('')\n",
    "plt.show()"
   ]
  },
  {
   "cell_type": "markdown",
   "metadata": {},
   "source": [
    "## Quartiles, outliers and boxplots"
   ]
  },
  {
   "cell_type": "code",
   "execution_count": 7,
   "metadata": {},
   "outputs": [
    {
     "name": "stdout",
     "output_type": "stream",
     "text": [
      "-------------------------Capomulin-------------------------\n",
      "\n",
      "The lower quartile of temperatures is: 32.38\n",
      "The upper quartile of temperatures is: 40.16\n",
      "The interquartile range of temperatures is: 7.78\n",
      "The the median of temperatures is: 38.13 \n",
      "Values below 20.70 could be outliers.\n",
      "Values above 51.83 could be outliers.\n",
      "There are no outliers\n",
      "\n",
      "-------------------------Ramicane-------------------------\n",
      "\n",
      "The lower quartile of temperatures is: 31.56\n",
      "The upper quartile of temperatures is: 40.66\n",
      "The interquartile range of temperatures is: 9.10\n",
      "The the median of temperatures is: 36.56 \n",
      "Values below 17.91 could be outliers.\n",
      "Values above 54.31 could be outliers.\n",
      "There are no outliers\n",
      "\n",
      "-------------------------Infubinol-------------------------\n",
      "\n",
      "The lower quartile of temperatures is: 54.05\n",
      "The upper quartile of temperatures is: 65.53\n",
      "The interquartile range of temperatures is: 11.48\n",
      "The the median of temperatures is: 60.17 \n",
      "Values below 36.83 could be outliers.\n",
      "Values above 82.74 could be outliers.\n",
      "There is 1 possible outlier: ['36.32']\n",
      "\n",
      "-------------------------Ceftamin-------------------------\n",
      "\n",
      "The lower quartile of temperatures is: 48.72\n",
      "The upper quartile of temperatures is: 64.30\n",
      "The interquartile range of temperatures is: 15.58\n",
      "The the median of temperatures is: 59.85 \n",
      "Values below 25.36 could be outliers.\n",
      "Values above 87.67 could be outliers.\n",
      "There are no outliers\n",
      "\n"
     ]
    }
   ],
   "source": [
    "# Calculate the final tumor volume of each mouse across four of the most promising treatment regimens. Capomulin, Ramicane, Infubinol, and Ceftamin\n",
    "# Calculate the IQR and quantitatively determine if there are any potential outliers.\n",
    "\n",
    "\n",
    "treatments=['Capomulin', 'Ramicane', 'Infubinol', 'Ceftamin']\n",
    "\n",
    "\n",
    "max_timepoint=complete_data.set_index('Drug Regimen').drop(['Ketapril','Naftisol','Zoniferol','Stelasyn','Placebo','Propriva']).groupby(['Mouse ID','Drug Regimen'])['Timepoint'].max()\n",
    "\n",
    "\n",
    "final_tumor = pd.merge(max_timepoint, complete_data,  how='left', left_on=['Mouse ID','Timepoint'], right_on = ['Mouse ID','Timepoint']).drop(columns=['Sex','Age_months','Weight (g)','Metastatic Sites'])\n",
    "\n",
    "\n",
    "for treatment in treatments:\n",
    "    \n",
    "    outliers=0\n",
    "    \n",
    "    outlier=[]\n",
    "    \n",
    "    tumors = final_tumor[final_tumor['Drug Regimen']==treatment]\n",
    "    \n",
    "    \n",
    "    drug = tumors['Tumor Volume (mm3)']\n",
    "\n",
    "    quartiles = drug.quantile([.25,.5,.75])\n",
    "    Q1 = quartiles[0.25]\n",
    "    Q3 = quartiles[0.75]\n",
    "    IQR = Q3-Q1\n",
    "    \n",
    "    lower_bound = Q1 - (1.5*IQR)\n",
    "    upper_bound = Q3 + (1.5*IQR)\n",
    "\n",
    "    for volume in tumors['Tumor Volume (mm3)']:\n",
    "        \n",
    "        \n",
    "        if volume > upper_bound or volume < lower_bound:\n",
    "            \n",
    "            outlier.append('{:.2f}'.format(volume))\n",
    "            outliers +=1\n",
    "\n",
    "    print(f'-------------------------{treatment}-------------------------\\n')\n",
    "    print(f\"The lower quartile of temperatures is: {'{:.2f}'.format(Q1)}\")\n",
    "    print(f\"The upper quartile of temperatures is: {'{:.2f}'.format(Q3)}\")\n",
    "    print(f\"The interquartile range of temperatures is: {'{:.2f}'.format(IQR)}\")\n",
    "    print(f\"The the median of temperatures is: {'{:.2f}'.format(quartiles[0.5])} \")\n",
    "    print(f\"Values below {'{:.2f}'.format(lower_bound)} could be outliers.\")\n",
    "    print(f\"Values above {'{:.2f}'.format(upper_bound)} could be outliers.\")\n",
    "\n",
    "    if outliers==1:\n",
    "          \n",
    "        print(f\"There is {outliers} possible outlier: {outlier}\\n\")\n",
    "          \n",
    "    elif outliers>1:\n",
    "          \n",
    "        print(f\"There are {outliers} possible outliers: {outlier}\\n\")\n",
    "              \n",
    "    elif outliers==0:\n",
    "              \n",
    "        print(\"There are no outliers\\n\")\n",
    "        "
   ]
  },
  {
   "cell_type": "code",
   "execution_count": 8,
   "metadata": {},
   "outputs": [
    {
     "data": {
      "image/png": "[encoded data removed]",
      "text/plain": [
       "<Figure size 432x288 with 1 Axes>"
      ]
     },
     "metadata": {
      "needs_background": "light"
     },
     "output_type": "display_data"
    }
   ],
   "source": [
    "# Generate a box plot of the final tumor volume of each mouse across four regimens of interest\n",
    "\n",
    "treatments=['Capomulin', 'Ramicane', 'Infubinol', 'Ceftamin']\n",
    "\n",
    "tumor_volumes=[]\n",
    "\n",
    "for treatment in treatments:\n",
    "    \n",
    "    tumors = final_tumor[final_tumor['Drug Regimen']==treatment]\n",
    "    tumor_volumes.append(tumors['Tumor Volume (mm3)'])\n",
    "    \n",
    "fig1, ax1 = plt.subplots()\n",
    "ax1.set_title('Final Tumor Volumes')\n",
    "ax1.set_ylabel('Tumor Volume (mm3)')\n",
    "ax1.set_xlabel('Treatments')\n",
    "ax1.boxplot(tumor_volumes, 0, 'bD')\n",
    "plt.xticks([1,2,3,4], treatments)\n",
    "plt.ylim(20, 80)\n",
    "plt.grid(axis='y', color='0.75')\n",
    "plt.show()"
   ]
  },
  {
   "cell_type": "markdown",
   "metadata": {},
   "source": [
    "## Line and scatter plots"
   ]
  },
  {
   "cell_type": "code",
   "execution_count": 9,
   "metadata": {},
   "outputs": [
    {
     "data": {
      "image/png": "[encoded data removed]",
      "text/plain": [
       "<Figure size 432x288 with 1 Axes>"
      ]
     },
     "metadata": {
      "needs_background": "light"
     },
     "output_type": "display_data"
    }
   ],
   "source": [
    "# Generate a line plot of time point versus tumor volume for a mouse treated with Capomulin\n",
    "#line_data=complete_data.set_index('Drug Regimen').drop(index=['Ramicane','Ketapril','Naftisol','Zoniferol','Placebo','Stelasyn','Ceftamin','Infubinol','Propriva'])\n",
    "line_data=complete_data[complete_data['Drug Regimen']=='Capomulin']\n",
    "line_data=line_data[line_data['Mouse ID']=='s185']\n",
    "plt.plot(line_data['Timepoint'],line_data['Tumor Volume (mm3)'])\n",
    "plt.title('Tumor Volume vs Time for Mouse s185')\n",
    "plt.ylim(20, 50)\n",
    "plt.ylabel('Tumor Volume (mm3)')\n",
    "plt.xlabel('Timepoint')\n",
    "plt.grid(axis='y', color='0.75')\n",
    "plt.show()"
   ]
  },
  {
   "cell_type": "code",
   "execution_count": 10,
   "metadata": {},
   "outputs": [
    {
     "data": {
      "image/png": "[encoded data removed]",
      "text/plain": [
       "<Figure size 432x288 with 1 Axes>"
      ]
     },
     "metadata": {
      "needs_background": "light"
     },
     "output_type": "display_data"
    }
   ],
   "source": [
    "# Generate a scatter plot of mouse weight versus average tumor volume for the Capomulin regimen\n",
    "\n",
    "capomulin_data=complete_data.loc[complete_data['Drug Regimen']=='Capomulin']\n",
    "capomulin_data=capomulin_data.groupby('Mouse ID').mean()\n",
    "plt.scatter(capomulin_data['Tumor Volume (mm3)'], capomulin_data['Weight (g)'], c='r', alpha=0.5)\n",
    "plt.title('Tumor Volume vs Mouse Wight for Capomulin Regimen')\n",
    "plt.xlabel('Tumor Volume (mm3)')\n",
    "plt.ylabel('Weight (g)')\n",
    "plt.grid(axis='y', color='0.75')\n",
    "plt.show()"
   ]
  },
  {
   "cell_type": "code",
   "execution_count": 11,
   "metadata": {
    "scrolled": true
   },
   "outputs": [
    {
     "data": {
      "text/html": [
       "<div>\n",
       "<style scoped>\n",
       "    .dataframe tbody tr th:only-of-type {\n",
       "        vertical-align: middle;\n",
       "    }\n",
       "\n",
       "    .dataframe tbody tr th {\n",
       "        vertical-align: top;\n",
       "    }\n",
       "\n",
       "    .dataframe thead th {\n",
       "        text-align: right;\n",
       "    }\n",
       "</style>\n",
       "<table border=\"1\" class=\"dataframe\">\n",
       "  <thead>\n",
       "    <tr style=\"text-align: right;\">\n",
       "      <th></th>\n",
       "      <th>Weight (g)</th>\n",
       "      <th>Tumor Volume (mm3)</th>\n",
       "    </tr>\n",
       "  </thead>\n",
       "  <tbody>\n",
       "    <tr>\n",
       "      <td>Weight (g)</td>\n",
       "      <td>1.000000</td>\n",
       "      <td>0.841936</td>\n",
       "    </tr>\n",
       "    <tr>\n",
       "      <td>Tumor Volume (mm3)</td>\n",
       "      <td>0.841936</td>\n",
       "      <td>1.000000</td>\n",
       "    </tr>\n",
       "  </tbody>\n",
       "</table>\n",
       "</div>"
      ],
      "text/plain": [
       "                    Weight (g)  Tumor Volume (mm3)\n",
       "Weight (g)            1.000000            0.841936\n",
       "Tumor Volume (mm3)    0.841936            1.000000"
      ]
     },
     "execution_count": 11,
     "metadata": {},
     "output_type": "execute_result"
    }
   ],
   "source": [
    "# Calculate the correlation coefficient and linear regression model for mouse weight and average tumor volume for the Capomulin regimen\n",
    "corr_data=capomulin_data.drop(columns=['Age_months','Timepoint','Metastatic Sites']).reset_index()\n",
    "pearsoncorr = corr_data.corr(method='pearson')\n",
    "pearsoncorr"
   ]
  },
  {
   "cell_type": "code",
   "execution_count": 12,
   "metadata": {},
   "outputs": [
    {
     "data": {
      "image/png": "[encoded data removed]",
      "text/plain": [
       "<Figure size 432x288 with 1 Axes>"
      ]
     },
     "metadata": {
      "needs_background": "light"
     },
     "output_type": "display_data"
    }
   ],
   "source": [
    "(slope, intercept, rvalue, pvalue, stderr) = st.linregress(corr_data['Tumor Volume (mm3)'], corr_data['Weight (g)'])\n",
    "regress_values = corr_data['Tumor Volume (mm3)'] * slope + intercept\n",
    "line_eq = \"y = \" + str(round(slope,2)) + \"x + \" + str(round(intercept,2))\n",
    "rval=f' r value = {\"{:.2f}\".format(rvalue)}'\n",
    "\n",
    "plt.scatter(capomulin_data['Tumor Volume (mm3)'], capomulin_data['Weight (g)'], c='r', alpha=0.5)\n",
    "plt.title('Tumor Volume vs Mouse Wight for Capomulin Regimen')\n",
    "plt.xlabel('Tumor Volume (mm3)')\n",
    "plt.ylabel('Weight (g)')\n",
    "plt.grid(axis='y', color='0.75')\n",
    "plt.plot(corr_data['Tumor Volume (mm3)'],regress_values,\"b\")\n",
    "plt.annotate(line_eq,(35,24),fontsize=15,color=\"black\")\n",
    "plt.annotate(rval,(35,22),fontsize=15,color=\"black\")\n",
    "plt.show()"
   ]
  }
 ],
 "metadata": {
  "anaconda-cloud": {},
  "kernelspec": {
   "display_name": "Python 3",
   "language": "python",
   "name": "python3"
  },
  "language_info": {
   "codemirror_mode": {
    "name": "ipython",
    "version": 3
   },
   "file_extension": ".py",
   "mimetype": "text/x-python",
   "name": "python",
   "nbconvert_exporter": "python",
   "pygments_lexer": "ipython3",
   "version": "3.7.4"
  }
 },
 "nbformat": 4,
 "nbformat_minor": 2
}
